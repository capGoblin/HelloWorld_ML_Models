{
  "cells": [
    {
      "cell_type": "code",
      "execution_count": null,
      "metadata": {
        "id": "8RZOuS9LWQvv"
      },
      "outputs": [],
      "source": [
        "# import libraries\n",
        "try:\n",
        "  # %tensorflow_version only exists in Colab.\n",
        "  !pip install tf-nightly\n",
        "except Exception:\n",
        "  pass\n",
        "import tensorflow as tf\n",
        "import pandas as pd\n",
        "from tensorflow import keras\n",
        "!pip install tensorflow-datasets\n",
        "import tensorflow_datasets as tfds\n",
        "import numpy as np\n",
        "import matplotlib.pyplot as plt\n",
        "import seaborn as sns\n",
        "\n",
        "print(tf.__version__)"
      ]
    },
    {
      "cell_type": "code",
      "source": [
        "import warnings\n",
        "import matplotlib.pyplot as plt\n",
        "import seaborn as sns\n",
        "import numpy as np\n",
        "import pandas as pd\n",
        "import re\n",
        "import nltk\n",
        "from nltk.corpus import stopwords\n",
        "from nltk.stem.porter import PorterStemmer\n",
        "from nltk.stem import WordNetLemmatizer\n",
        "from sklearn.feature_extraction.text import TfidfVectorizer\n",
        "from sklearn.preprocessing import LabelEncoder\n",
        "from sklearn.model_selection import train_test_split\n",
        "from sklearn.pipeline import Pipeline\n",
        "from sklearn.naive_bayes import MultinomialNB\n",
        "from sklearn.ensemble import RandomForestClassifier\n",
        "from sklearn.neighbors import KNeighborsClassifier\n",
        "from sklearn.svm import SVC\n",
        "from sklearn.model_selection import cross_val_score\n",
        "from matplotlib.colors import ListedColormap\n",
        "from sklearn import metrics\n",
        "from sklearn.metrics import precision_score, recall_score, classification_report, accuracy_score, f1_score\n",
        "from sklearn.metrics import ConfusionMatrixDisplay\n",
        "# plot_confusion_matrix\n",
        "from nltk.tokenize import word_tokenize\n",
        "import scipy.sparse as sp\n",
        "\n"
      ],
      "metadata": {
        "id": "NpCAMHVwDVOk"
      },
      "execution_count": 2,
      "outputs": []
    },
    {
      "cell_type": "code",
      "source": [
        "nltk.download('punkt')"
      ],
      "metadata": {
        "colab": {
          "base_uri": "https://localhost:8080/"
        },
        "id": "viGOX5X3Siyy",
        "outputId": "a2f0063b-7c42-4ddb-dcd2-b69a7fb509aa"
      },
      "execution_count": 3,
      "outputs": [
        {
          "output_type": "stream",
          "name": "stderr",
          "text": [
            "[nltk_data] Downloading package punkt to /root/nltk_data...\n",
            "[nltk_data]   Unzipping tokenizers/punkt.zip.\n"
          ]
        },
        {
          "output_type": "execute_result",
          "data": {
            "text/plain": [
              "True"
            ]
          },
          "metadata": {},
          "execution_count": 3
        }
      ]
    },
    {
      "cell_type": "code",
      "source": [
        "nltk.download('stopwords')"
      ],
      "metadata": {
        "colab": {
          "base_uri": "https://localhost:8080/"
        },
        "id": "oCykqBAcXwbH",
        "outputId": "ae5ce8ca-fba3-47b5-e769-96c7ff79150e"
      },
      "execution_count": 4,
      "outputs": [
        {
          "output_type": "stream",
          "name": "stderr",
          "text": [
            "[nltk_data] Downloading package stopwords to /root/nltk_data...\n",
            "[nltk_data]   Unzipping corpora/stopwords.zip.\n"
          ]
        },
        {
          "output_type": "execute_result",
          "data": {
            "text/plain": [
              "True"
            ]
          },
          "metadata": {},
          "execution_count": 4
        }
      ]
    },
    {
      "cell_type": "code",
      "source": [
        "nltk.download('wordnet')\n"
      ],
      "metadata": {
        "colab": {
          "base_uri": "https://localhost:8080/"
        },
        "id": "hhVR93nrYixQ",
        "outputId": "dc970c37-669b-4177-b1ee-245153910730"
      },
      "execution_count": 5,
      "outputs": [
        {
          "output_type": "stream",
          "name": "stderr",
          "text": [
            "[nltk_data] Downloading package wordnet to /root/nltk_data...\n"
          ]
        },
        {
          "output_type": "execute_result",
          "data": {
            "text/plain": [
              "True"
            ]
          },
          "metadata": {},
          "execution_count": 5
        }
      ]
    },
    {
      "cell_type": "code",
      "execution_count": 6,
      "metadata": {
        "id": "lMHwYXHXCar3",
        "colab": {
          "base_uri": "https://localhost:8080/"
        },
        "outputId": "acc360c7-057a-47b9-878f-6186cead9210"
      },
      "outputs": [
        {
          "output_type": "stream",
          "name": "stdout",
          "text": [
            "--2023-06-29 13:12:48--  https://cdn.freecodecamp.org/project-data/sms/train-data.tsv\n",
            "Resolving cdn.freecodecamp.org (cdn.freecodecamp.org)... 172.67.70.149, 104.26.2.33, 104.26.3.33, ...\n",
            "Connecting to cdn.freecodecamp.org (cdn.freecodecamp.org)|172.67.70.149|:443... connected.\n",
            "HTTP request sent, awaiting response... 200 OK\n",
            "Length: 358233 (350K) [text/tab-separated-values]\n",
            "Saving to: ‘train-data.tsv’\n",
            "\n",
            "train-data.tsv      100%[===================>] 349.84K  --.-KB/s    in 0.007s  \n",
            "\n",
            "2023-06-29 13:12:49 (46.8 MB/s) - ‘train-data.tsv’ saved [358233/358233]\n",
            "\n",
            "--2023-06-29 13:12:49--  https://cdn.freecodecamp.org/project-data/sms/valid-data.tsv\n",
            "Resolving cdn.freecodecamp.org (cdn.freecodecamp.org)... 172.67.70.149, 104.26.2.33, 104.26.3.33, ...\n",
            "Connecting to cdn.freecodecamp.org (cdn.freecodecamp.org)|172.67.70.149|:443... connected.\n",
            "HTTP request sent, awaiting response... 200 OK\n",
            "Length: 118774 (116K) [text/tab-separated-values]\n",
            "Saving to: ‘valid-data.tsv’\n",
            "\n",
            "valid-data.tsv      100%[===================>] 115.99K  --.-KB/s    in 0.007s  \n",
            "\n",
            "2023-06-29 13:12:50 (16.7 MB/s) - ‘valid-data.tsv’ saved [118774/118774]\n",
            "\n"
          ]
        }
      ],
      "source": [
        "# get data files\n",
        "!wget https://cdn.freecodecamp.org/project-data/sms/train-data.tsv\n",
        "!wget https://cdn.freecodecamp.org/project-data/sms/valid-data.tsv\n",
        "\n",
        "train_file_path = \"train-data.tsv\"\n",
        "test_file_path = \"valid-data.tsv\""
      ]
    },
    {
      "cell_type": "code",
      "execution_count": 7,
      "metadata": {
        "id": "zOMKywn4zReN"
      },
      "outputs": [],
      "source": [
        "df_train = pd.read_csv('train-data.tsv', delimiter='\\t')\n",
        "df_test = pd.read_csv('valid-data.tsv', delimiter='\\t')\n",
        "df_train.columns = ['spam/ham', 'message']\n",
        "df_test.columns = ['spam/ham', 'message']"
      ]
    },
    {
      "cell_type": "code",
      "source": [
        "print(df_train)\n",
        "print(df_test)"
      ],
      "metadata": {
        "colab": {
          "base_uri": "https://localhost:8080/"
        },
        "id": "kazGsuX4mS0z",
        "outputId": "411e7f26-7c2e-4b4d-923d-b3b00ca17232"
      },
      "execution_count": 8,
      "outputs": [
        {
          "output_type": "stream",
          "name": "stdout",
          "text": [
            "     spam/ham                                            message\n",
            "0         ham                           you can never do nothing\n",
            "1         ham  now u sound like manky scouse boy steve,like! ...\n",
            "2         ham  mum say we wan to go then go... then she can s...\n",
            "3         ham  never y lei... i v lazy... got wat? dat day ü ...\n",
            "4         ham  in xam hall boy asked girl tell me the startin...\n",
            "...       ...                                                ...\n",
            "4173      ham  just woke up. yeesh its late. but i didn't fal...\n",
            "4174      ham  what do u reckon as need 2 arrange transport i...\n",
            "4175     spam  free entry into our £250 weekly competition ju...\n",
            "4176     spam  -pls stop bootydelious (32/f) is inviting you ...\n",
            "4177      ham  tell my  bad character which u dnt lik in me. ...\n",
            "\n",
            "[4178 rows x 2 columns]\n",
            "     spam/ham                                            message\n",
            "0         ham         not much, just some textin'. how bout you?\n",
            "1         ham  i probably won't eat at all today. i think i'm...\n",
            "2         ham  don‘t give a flying monkeys wot they think and...\n",
            "3         ham                                who are you seeing?\n",
            "4         ham  your opinion about me? 1. over 2. jada 3. kusr...\n",
            "...       ...                                                ...\n",
            "1386      ham  true dear..i sat to pray evening and felt so.s...\n",
            "1387      ham               what will we do in the shower, baby?\n",
            "1388      ham  where are you ? what are you doing ? are yuou ...\n",
            "1389     spam  ur cash-balance is currently 500 pounds - to m...\n",
            "1390     spam  not heard from u4 a while. call 4 rude chat pr...\n",
            "\n",
            "[1391 rows x 2 columns]\n"
          ]
        }
      ]
    },
    {
      "cell_type": "code",
      "source": [
        "df_train['message'] = df_train['message'].astype(str)\n",
        "df_test['message'] = df_test['message'].astype(str)"
      ],
      "metadata": {
        "id": "6wvkRwROUQzb"
      },
      "execution_count": 9,
      "outputs": []
    },
    {
      "cell_type": "code",
      "source": [
        "# Adding a column of numbers of charachters,words and sentences in each msg\n",
        "\n",
        "df_train[\"No_of_Characters\"] = df_train[\"message\"].apply(len)\n",
        "df_train[\"No_of_Words\"]=df_train.apply(lambda row: nltk.word_tokenize(row[\"message\"]), axis=1).apply(len)\n",
        "df_train[\"No_of_sentence\"]=df_train.apply(lambda row: nltk.sent_tokenize(row[\"message\"]), axis=1).apply(len)\n",
        "\n",
        "df_train.describe().T"
      ],
      "metadata": {
        "id": "IvIDYoBLB731",
        "colab": {
          "base_uri": "https://localhost:8080/",
          "height": 143
        },
        "outputId": "4c49ae35-659f-4e27-e1a7-bc18a3bbb06e"
      },
      "execution_count": 11,
      "outputs": [
        {
          "output_type": "execute_result",
          "data": {
            "text/plain": [
              "                   count       mean        std  min   25%   50%    75%    max\n",
              "No_of_Characters  4178.0  80.458114  60.285037  2.0  35.0  62.0  122.0  910.0\n",
              "No_of_Words       4178.0  18.780517  13.825062  1.0   9.0  15.0   27.0  216.0\n",
              "No_of_sentence    4178.0   1.895883   1.421113  1.0   1.0   1.0    2.0   34.0"
            ],
            "text/html": [
              "\n",
              "  <div id=\"df-260d973b-3bb8-4481-84e7-18872c6a61ac\">\n",
              "    <div class=\"colab-df-container\">\n",
              "      <div>\n",
              "<style scoped>\n",
              "    .dataframe tbody tr th:only-of-type {\n",
              "        vertical-align: middle;\n",
              "    }\n",
              "\n",
              "    .dataframe tbody tr th {\n",
              "        vertical-align: top;\n",
              "    }\n",
              "\n",
              "    .dataframe thead th {\n",
              "        text-align: right;\n",
              "    }\n",
              "</style>\n",
              "<table border=\"1\" class=\"dataframe\">\n",
              "  <thead>\n",
              "    <tr style=\"text-align: right;\">\n",
              "      <th></th>\n",
              "      <th>count</th>\n",
              "      <th>mean</th>\n",
              "      <th>std</th>\n",
              "      <th>min</th>\n",
              "      <th>25%</th>\n",
              "      <th>50%</th>\n",
              "      <th>75%</th>\n",
              "      <th>max</th>\n",
              "    </tr>\n",
              "  </thead>\n",
              "  <tbody>\n",
              "    <tr>\n",
              "      <th>No_of_Characters</th>\n",
              "      <td>4178.0</td>\n",
              "      <td>80.458114</td>\n",
              "      <td>60.285037</td>\n",
              "      <td>2.0</td>\n",
              "      <td>35.0</td>\n",
              "      <td>62.0</td>\n",
              "      <td>122.0</td>\n",
              "      <td>910.0</td>\n",
              "    </tr>\n",
              "    <tr>\n",
              "      <th>No_of_Words</th>\n",
              "      <td>4178.0</td>\n",
              "      <td>18.780517</td>\n",
              "      <td>13.825062</td>\n",
              "      <td>1.0</td>\n",
              "      <td>9.0</td>\n",
              "      <td>15.0</td>\n",
              "      <td>27.0</td>\n",
              "      <td>216.0</td>\n",
              "    </tr>\n",
              "    <tr>\n",
              "      <th>No_of_sentence</th>\n",
              "      <td>4178.0</td>\n",
              "      <td>1.895883</td>\n",
              "      <td>1.421113</td>\n",
              "      <td>1.0</td>\n",
              "      <td>1.0</td>\n",
              "      <td>1.0</td>\n",
              "      <td>2.0</td>\n",
              "      <td>34.0</td>\n",
              "    </tr>\n",
              "  </tbody>\n",
              "</table>\n",
              "</div>\n",
              "      <button class=\"colab-df-convert\" onclick=\"convertToInteractive('df-260d973b-3bb8-4481-84e7-18872c6a61ac')\"\n",
              "              title=\"Convert this dataframe to an interactive table.\"\n",
              "              style=\"display:none;\">\n",
              "        \n",
              "  <svg xmlns=\"http://www.w3.org/2000/svg\" height=\"24px\"viewBox=\"0 0 24 24\"\n",
              "       width=\"24px\">\n",
              "    <path d=\"M0 0h24v24H0V0z\" fill=\"none\"/>\n",
              "    <path d=\"M18.56 5.44l.94 2.06.94-2.06 2.06-.94-2.06-.94-.94-2.06-.94 2.06-2.06.94zm-11 1L8.5 8.5l.94-2.06 2.06-.94-2.06-.94L8.5 2.5l-.94 2.06-2.06.94zm10 10l.94 2.06.94-2.06 2.06-.94-2.06-.94-.94-2.06-.94 2.06-2.06.94z\"/><path d=\"M17.41 7.96l-1.37-1.37c-.4-.4-.92-.59-1.43-.59-.52 0-1.04.2-1.43.59L10.3 9.45l-7.72 7.72c-.78.78-.78 2.05 0 2.83L4 21.41c.39.39.9.59 1.41.59.51 0 1.02-.2 1.41-.59l7.78-7.78 2.81-2.81c.8-.78.8-2.07 0-2.86zM5.41 20L4 18.59l7.72-7.72 1.47 1.35L5.41 20z\"/>\n",
              "  </svg>\n",
              "      </button>\n",
              "      \n",
              "  <style>\n",
              "    .colab-df-container {\n",
              "      display:flex;\n",
              "      flex-wrap:wrap;\n",
              "      gap: 12px;\n",
              "    }\n",
              "\n",
              "    .colab-df-convert {\n",
              "      background-color: #E8F0FE;\n",
              "      border: none;\n",
              "      border-radius: 50%;\n",
              "      cursor: pointer;\n",
              "      display: none;\n",
              "      fill: #1967D2;\n",
              "      height: 32px;\n",
              "      padding: 0 0 0 0;\n",
              "      width: 32px;\n",
              "    }\n",
              "\n",
              "    .colab-df-convert:hover {\n",
              "      background-color: #E2EBFA;\n",
              "      box-shadow: 0px 1px 2px rgba(60, 64, 67, 0.3), 0px 1px 3px 1px rgba(60, 64, 67, 0.15);\n",
              "      fill: #174EA6;\n",
              "    }\n",
              "\n",
              "    [theme=dark] .colab-df-convert {\n",
              "      background-color: #3B4455;\n",
              "      fill: #D2E3FC;\n",
              "    }\n",
              "\n",
              "    [theme=dark] .colab-df-convert:hover {\n",
              "      background-color: #434B5C;\n",
              "      box-shadow: 0px 1px 3px 1px rgba(0, 0, 0, 0.15);\n",
              "      filter: drop-shadow(0px 1px 2px rgba(0, 0, 0, 0.3));\n",
              "      fill: #FFFFFF;\n",
              "    }\n",
              "  </style>\n",
              "\n",
              "      <script>\n",
              "        const buttonEl =\n",
              "          document.querySelector('#df-260d973b-3bb8-4481-84e7-18872c6a61ac button.colab-df-convert');\n",
              "        buttonEl.style.display =\n",
              "          google.colab.kernel.accessAllowed ? 'block' : 'none';\n",
              "\n",
              "        async function convertToInteractive(key) {\n",
              "          const element = document.querySelector('#df-260d973b-3bb8-4481-84e7-18872c6a61ac');\n",
              "          const dataTable =\n",
              "            await google.colab.kernel.invokeFunction('convertToInteractive',\n",
              "                                                     [key], {});\n",
              "          if (!dataTable) return;\n",
              "\n",
              "          const docLinkHtml = 'Like what you see? Visit the ' +\n",
              "            '<a target=\"_blank\" href=https://colab.research.google.com/notebooks/data_table.ipynb>data table notebook</a>'\n",
              "            + ' to learn more about interactive tables.';\n",
              "          element.innerHTML = '';\n",
              "          dataTable['output_type'] = 'display_data';\n",
              "          await google.colab.output.renderOutput(dataTable, element);\n",
              "          const docLink = document.createElement('div');\n",
              "          docLink.innerHTML = docLinkHtml;\n",
              "          element.appendChild(docLink);\n",
              "        }\n",
              "      </script>\n",
              "    </div>\n",
              "  </div>\n",
              "  "
            ]
          },
          "metadata": {},
          "execution_count": 11
        }
      ]
    },
    {
      "cell_type": "code",
      "source": [
        "def clean_msg(text):\n",
        "  remove_non_alpha = re.sub('[^a-zA-Z]', ' ', text)\n",
        "  remove_non_alpha = remove_non_alpha.lower()\n",
        "  return remove_non_alpha\n",
        "\n",
        "\n",
        "df_train['message'] = df_train['message'].apply(clean_msg)\n",
        "df_test['message'] = df_test['message'].apply(clean_msg)"
      ],
      "metadata": {
        "id": "pxRH3DTizWeW"
      },
      "execution_count": 12,
      "outputs": []
    },
    {
      "cell_type": "code",
      "source": [
        "print(df_train)\n",
        "print(df_test)"
      ],
      "metadata": {
        "colab": {
          "base_uri": "https://localhost:8080/"
        },
        "id": "k-BK7oZqmeZt",
        "outputId": "625f8d4f-9c4e-48f5-8367-8d7ef040bbdc"
      },
      "execution_count": 13,
      "outputs": [
        {
          "output_type": "stream",
          "name": "stdout",
          "text": [
            "     spam/ham                                            message  \\\n",
            "0         ham                           you can never do nothing   \n",
            "1         ham  now u sound like manky scouse boy steve like  ...   \n",
            "2         ham  mum say we wan to go then go    then she can s...   \n",
            "3         ham  never y lei    i v lazy    got wat  dat day   ...   \n",
            "4         ham  in xam hall boy asked girl tell me the startin...   \n",
            "...       ...                                                ...   \n",
            "4173      ham  just woke up  yeesh its late  but i didn t fal...   \n",
            "4174      ham  what do u reckon as need   arrange transport i...   \n",
            "4175     spam  free entry into our      weekly competition ju...   \n",
            "4176     spam   pls stop bootydelious     f  is inviting you ...   \n",
            "4177      ham  tell my  bad character which u dnt lik in me  ...   \n",
            "\n",
            "      No_of_Characters  No_of_Words  No_of_sentence  \n",
            "0                   24            5               1  \n",
            "1                  115           26               2  \n",
            "2                   83           19               1  \n",
            "3                   77           22               2  \n",
            "4                  185           38               2  \n",
            "...                ...          ...             ...  \n",
            "4173                74           25               3  \n",
            "4174                69           17               1  \n",
            "4175               106           21               2  \n",
            "4176               152           29               3  \n",
            "4177               165           44               4  \n",
            "\n",
            "[4178 rows x 5 columns]\n",
            "     spam/ham                                            message\n",
            "0         ham         not much  just some textin   how bout you \n",
            "1         ham  i probably won t eat at all today  i think i m...\n",
            "2         ham  don t give a flying monkeys wot they think and...\n",
            "3         ham                                who are you seeing \n",
            "4         ham  your opinion about me     over    jada    kusr...\n",
            "...       ...                                                ...\n",
            "1386      ham  true dear  i sat to pray evening and felt so s...\n",
            "1387      ham               what will we do in the shower  baby \n",
            "1388      ham  where are you   what are you doing   are yuou ...\n",
            "1389     spam  ur cash balance is currently     pounds   to m...\n",
            "1390     spam  not heard from u  a while  call   rude chat pr...\n",
            "\n",
            "[1391 rows x 2 columns]\n"
          ]
        }
      ]
    },
    {
      "cell_type": "code",
      "source": [
        "type(df_train['message'][0])"
      ],
      "metadata": {
        "colab": {
          "base_uri": "https://localhost:8080/"
        },
        "id": "qH_lM7WNmi57",
        "outputId": "febf38c7-75b5-4cdd-878a-49e7ca974384"
      },
      "execution_count": 14,
      "outputs": [
        {
          "output_type": "execute_result",
          "data": {
            "text/plain": [
              "str"
            ]
          },
          "metadata": {},
          "execution_count": 14
        }
      ]
    },
    {
      "cell_type": "code",
      "source": [
        "# Tokenization\n",
        "\n",
        "# df_train['message'] = df_train['message'].apply(word_tokenize)\n",
        "# df_test['message'] = df_test['message'].apply(word_tokenize)"
      ],
      "metadata": {
        "id": "C86DS-TKSMb_"
      },
      "execution_count": 15,
      "outputs": []
    },
    {
      "cell_type": "code",
      "source": [
        "# Stop Word Removal\n",
        "\n",
        "# stop_words = set(stopwords.words('english'))\n",
        "\n",
        "# def remove_stopwords(word_list):\n",
        "#     filtered_words = []\n",
        "#     for word in word_list:\n",
        "#         if word not in stop_words:\n",
        "#             filtered_words.append(word)\n",
        "#     return filtered_words\n",
        "\n",
        "# df_train['message'].apply(remove_stopwords)\n",
        "# df_test['message'].apply(remove_stopwords)"
      ],
      "metadata": {
        "id": "JPYvYFmyXnM6"
      },
      "execution_count": 16,
      "outputs": []
    },
    {
      "cell_type": "code",
      "source": [
        "# lemmatization does Tokenization, Stop Word Removal,\n",
        "# removing any irrelevant characters, special symbols, or punctuation marks\n",
        "\n",
        "lemmatizer = WordNetLemmatizer()\n",
        "\n",
        "def split_sentence(sentence):\n",
        "  return sentence.split()\n",
        "\n",
        "\n",
        "def preprocess_text(word_list):\n",
        "\n",
        "    filtered_words = []\n",
        "    for word in word_list:\n",
        "      lem_word = lemmatizer.lemmatize(word)\n",
        "      filtered_words.append(lem_word)\n",
        "    return filtered_words\n",
        "\n",
        "# def list_to_str(sentence):\n",
        "#     sentence_str = ''\n",
        "#     for word in sentence:\n",
        "#         sentence_str += word + ' '\n",
        "#     return sentence_str[:-1]\n",
        "\n",
        "def list_to_str(sentence):\n",
        "    sentence_str = ' '.join(sentence)\n",
        "    return sentence_str"
      ],
      "metadata": {
        "id": "0nWki4JxYpCd"
      },
      "execution_count": 17,
      "outputs": []
    },
    {
      "cell_type": "code",
      "source": [
        "print(df_train)\n",
        "print(df_test)"
      ],
      "metadata": {
        "colab": {
          "base_uri": "https://localhost:8080/"
        },
        "id": "15sE6GoFncql",
        "outputId": "f61755ea-4ca8-48c9-d775-283ac55b542d"
      },
      "execution_count": 18,
      "outputs": [
        {
          "output_type": "stream",
          "name": "stdout",
          "text": [
            "     spam/ham                                            message  \\\n",
            "0         ham                           you can never do nothing   \n",
            "1         ham  now u sound like manky scouse boy steve like  ...   \n",
            "2         ham  mum say we wan to go then go    then she can s...   \n",
            "3         ham  never y lei    i v lazy    got wat  dat day   ...   \n",
            "4         ham  in xam hall boy asked girl tell me the startin...   \n",
            "...       ...                                                ...   \n",
            "4173      ham  just woke up  yeesh its late  but i didn t fal...   \n",
            "4174      ham  what do u reckon as need   arrange transport i...   \n",
            "4175     spam  free entry into our      weekly competition ju...   \n",
            "4176     spam   pls stop bootydelious     f  is inviting you ...   \n",
            "4177      ham  tell my  bad character which u dnt lik in me  ...   \n",
            "\n",
            "      No_of_Characters  No_of_Words  No_of_sentence  \n",
            "0                   24            5               1  \n",
            "1                  115           26               2  \n",
            "2                   83           19               1  \n",
            "3                   77           22               2  \n",
            "4                  185           38               2  \n",
            "...                ...          ...             ...  \n",
            "4173                74           25               3  \n",
            "4174                69           17               1  \n",
            "4175               106           21               2  \n",
            "4176               152           29               3  \n",
            "4177               165           44               4  \n",
            "\n",
            "[4178 rows x 5 columns]\n",
            "     spam/ham                                            message\n",
            "0         ham         not much  just some textin   how bout you \n",
            "1         ham  i probably won t eat at all today  i think i m...\n",
            "2         ham  don t give a flying monkeys wot they think and...\n",
            "3         ham                                who are you seeing \n",
            "4         ham  your opinion about me     over    jada    kusr...\n",
            "...       ...                                                ...\n",
            "1386      ham  true dear  i sat to pray evening and felt so s...\n",
            "1387      ham               what will we do in the shower  baby \n",
            "1388      ham  where are you   what are you doing   are yuou ...\n",
            "1389     spam  ur cash balance is currently     pounds   to m...\n",
            "1390     spam  not heard from u  a while  call   rude chat pr...\n",
            "\n",
            "[1391 rows x 2 columns]\n"
          ]
        }
      ]
    },
    {
      "cell_type": "code",
      "source": [
        "vectorizer = TfidfVectorizer()\n",
        "\n",
        "df_train['message'] = df_train['message'].apply(split_sentence).apply(preprocess_text).apply(list_to_str)\n",
        "df_test['message'] = df_test['message'].apply(split_sentence).apply(preprocess_text).apply(list_to_str)\n",
        "\n",
        "\n",
        "X_train = vectorizer.fit_transform(df_train['message'])\n",
        "X_test = vectorizer.transform(df_test['message'])\n",
        "\n",
        "\n",
        "label_encoder = LabelEncoder()\n",
        "y_train = label_encoder.fit_transform(df_train['spam/ham'])\n",
        "y_test = label_encoder.transform(df_test['spam/ham'])\n",
        "\n",
        "\n",
        "# Get the feature names (tokens)\n",
        "# feature_names = vectorizer.get_feature_names_out(X_train)\n",
        "# Print the feature names\n",
        "# print(feature_names)"
      ],
      "metadata": {
        "id": "S3iLDokZjVLg"
      },
      "execution_count": 19,
      "outputs": []
    },
    {
      "cell_type": "code",
      "source": [
        "print(pd.DataFrame(X_train))\n",
        "print(pd.DataFrame(X_test))"
      ],
      "metadata": {
        "colab": {
          "base_uri": "https://localhost:8080/"
        },
        "id": "6HXfHQoOy3Tl",
        "outputId": "856269cf-3765-4acd-9293-dba088455407"
      },
      "execution_count": 20,
      "outputs": [
        {
          "output_type": "stream",
          "name": "stdout",
          "text": [
            "                                                      0\n",
            "0       (0, 3602)\\t0.5938671832447373\\n  (0, 1436)\\t...\n",
            "1       (0, 1700)\\t0.22296207740775956\\n  (0, 1404)\\...\n",
            "2       (0, 1742)\\t0.3415098378367859\\n  (0, 2139)\\t...\n",
            "3       (0, 3696)\\t0.2219308999344188\\n  (0, 6039)\\t...\n",
            "4       (0, 2657)\\t0.2417611550648996\\n  (0, 4011)\\t...\n",
            "...                                                 ...\n",
            "4173    (0, 6128)\\t0.40884703331957734\\n  (0, 6023)\\...\n",
            "4174    (0, 4321)\\t0.44192159237626966\\n  (0, 5541)\\...\n",
            "4175    (0, 5609)\\t0.37932504297080955\\n  (0, 1040)\\...\n",
            "4176    (0, 614)\\t0.5448907104366667\\n  (0, 2010)\\t0...\n",
            "4177    (0, 1977)\\t0.2781953700438588\\n  (0, 4418)\\t...\n",
            "\n",
            "[4178 rows x 1 columns]\n",
            "                                                      0\n",
            "0       (0, 6154)\\t0.19012774189544865\\n  (0, 4915)\\...\n",
            "1       (0, 6158)\\t0.1593457458932825\\n  (0, 6027)\\t...\n",
            "2       (0, 6053)\\t0.29585381711258446\\n  (0, 5385)\\...\n",
            "3       (0, 6154)\\t0.2363294605283802\\n  (0, 5954)\\t...\n",
            "4       (0, 6158)\\t0.120792977178099\\n  (0, 5138)\\t0...\n",
            "...                                                 ...\n",
            "1386    (0, 6154)\\t0.11448503553086208\\n  (0, 5565)\\...\n",
            "1387    (0, 5974)\\t0.29489439508068604\\n  (0, 5933)\\...\n",
            "1388    (0, 6158)\\t0.13188642952767257\\n  (0, 6154)\\...\n",
            "1389    (0, 5699)\\t0.2574216639575635\\n  (0, 5462)\\t...\n",
            "1390    (0, 6107)\\t0.21034971373319647\\n  (0, 5949)\\...\n",
            "\n",
            "[1391 rows x 1 columns]\n"
          ]
        }
      ]
    },
    {
      "cell_type": "code",
      "source": [
        "#Testing on the following classifiers\n",
        "classifiers = [MultinomialNB(),\n",
        "               RandomForestClassifier(),\n",
        "               KNeighborsClassifier(),\n",
        "               SVC()]\n",
        "for cls in classifiers:\n",
        "    cls.fit(X_train, y_train)\n",
        "\n",
        "# Dictionary of pipelines and model types for ease of reference\n",
        "pipe_dict = {0: \"NaiveBayes\", 1: \"RandomForest\", 2: \"KNeighbours\",3: \"SVC\"}"
      ],
      "metadata": {
        "id": "H7EqZm2I0p0L"
      },
      "execution_count": 21,
      "outputs": []
    },
    {
      "cell_type": "code",
      "source": [
        "# Cossvalidation\n",
        "for i, model in enumerate(classifiers):\n",
        "  cv_scores = cross_val_score(model, X_train, y_train, scoring=\"accuracy\", cv=10)\n",
        "  avg_score = cv_scores.mean()\n",
        "  print(f\"{pipe_dict[i]},  {avg_score}\")"
      ],
      "metadata": {
        "colab": {
          "base_uri": "https://localhost:8080/"
        },
        "id": "heDFwCVQ0yra",
        "outputId": "b3df0629-1366-436d-fa75-1ef0c6964fae"
      },
      "execution_count": 22,
      "outputs": [
        {
          "output_type": "stream",
          "name": "stdout",
          "text": [
            "NaiveBayes,  0.958354273518984\n",
            "RandomForest,  0.9748717772193727\n",
            "KNeighbours,  0.9128762062120639\n",
            "SVC,  0.9763071839179375\n"
          ]
        }
      ]
    },
    {
      "cell_type": "code",
      "source": [
        "pred_y = classifiers[3].predict(X_test)\n",
        "# pred_y = pred_y.reshape(-1, 1)\n",
        "# y_test = y_test.reshape(-1, 1)\n",
        "# pred_y_series = pd.Series(pred_y)\n",
        "# pred_y_sparse = vectorizer.transform(pred_y)\n",
        "# pred_y_transformed = vectorizer.transform(pd.Series(pred_y))\n",
        "# pred_y_series = pd.Series(pred_y)\n",
        "# pred_y_sparse = sp.csr_matrix(pred_y)\n",
        "# test_accuracy = classifiers[3].score(y_test, pred_y_series)\n",
        "test_accuracy = accuracy_score(y_test, pred_y)\n",
        "test_accuracy"
      ],
      "metadata": {
        "colab": {
          "base_uri": "https://localhost:8080/"
        },
        "id": "qU_Wfr_-0yzd",
        "outputId": "c34a50b8-7d9f-465b-f866-fddf532734cf"
      },
      "execution_count": 23,
      "outputs": [
        {
          "output_type": "execute_result",
          "data": {
            "text/plain": [
              "0.9849029475197699"
            ]
          },
          "metadata": {},
          "execution_count": 23
        }
      ]
    },
    {
      "cell_type": "code",
      "source": [
        "# function to predict messages based on model\n",
        "# (should return list containing prediction and label, ex. [0.008318834938108921, 'ham'])\n",
        "\n",
        "def predict_message(pred_text):\n",
        "\n",
        "  processed_pred_text = pd.Series(pred_text).apply(split_sentence).apply(preprocess_text).apply(list_to_str)\n",
        "\n",
        "  processed_pred_text_vectorized = vectorizer.transform(processed_pred_text)\n",
        "\n",
        "  pred_label = classifiers[3].predict(processed_pred_text_vectorized)\n",
        "  # pred_label = classifiers[3].predict(processed_pred_text_vectorized)[0]\n",
        "\n",
        "  pred_label_text = label_encoder.inverse_transform(pd.Series(pred_label))[0]\n",
        "  # pred_label_text = label_encoder.inverse_transform([pred_label])\n",
        "\n",
        "  prediction = [float(pred_label), str(pred_label_text)]\n",
        "\n",
        "  return (prediction)\n",
        "\n",
        "pred_text = \"how are you doing today?\"\n",
        "pred_text2 = \"sale today! to stop texts call 98912460324\"\n",
        "\n",
        "prediction = predict_message(pred_text)\n",
        "print(prediction)\n",
        "\n",
        "print(predict_message(pred_text2))"
      ],
      "metadata": {
        "colab": {
          "base_uri": "https://localhost:8080/"
        },
        "id": "cP1B1ii-ILuG",
        "outputId": "88db12ed-1bb1-457a-9ddb-a99bb299207c"
      },
      "execution_count": 24,
      "outputs": [
        {
          "output_type": "stream",
          "name": "stdout",
          "text": [
            "[0.0, 'ham']\n",
            "[1.0, 'spam']\n"
          ]
        }
      ]
    },
    {
      "cell_type": "code",
      "execution_count": 25,
      "metadata": {
        "id": "Dxotov85SjsC",
        "colab": {
          "base_uri": "https://localhost:8080/"
        },
        "outputId": "b71d157a-8c3c-46b7-8164-2fa4d64f2b64"
      },
      "outputs": [
        {
          "output_type": "stream",
          "name": "stdout",
          "text": [
            "You passed the challenge. Great job!\n"
          ]
        }
      ],
      "source": [
        "# Run this cell to test your function and model. Do not modify contents.\n",
        "def test_predictions():\n",
        "  test_messages = [\"how are you doing today\",\n",
        "                   \"sale today! to stop texts call 98912460324\",\n",
        "                   \"i dont want to go. can we try it a different day? available sat\",\n",
        "                   \"our new mobile video service is live. just install on your phone to start watching.\",\n",
        "                   \"you have won £1000 cash! call to claim your prize.\",\n",
        "                   \"i'll bring it tomorrow. don't forget the milk.\",\n",
        "                   \"wow, is your arm alright. that happened to me one time too\"\n",
        "                  ]\n",
        "\n",
        "  test_answers = [\"ham\", \"spam\", \"ham\", \"spam\", \"spam\", \"ham\", \"ham\"]\n",
        "  passed = True\n",
        "\n",
        "  for msg, ans in zip(test_messages, test_answers):\n",
        "    prediction = predict_message(msg)\n",
        "    if prediction[1] != ans:\n",
        "      passed = False\n",
        "\n",
        "  if passed:\n",
        "    print(\"You passed the challenge. Great job!\")\n",
        "  else:\n",
        "    print(\"You haven't passed yet. Keep trying.\")\n",
        "\n",
        "test_predictions()\n"
      ]
    }
  ],
  "metadata": {
    "colab": {
      "provenance": [],
      "gpuType": "T4"
    },
    "kernelspec": {
      "display_name": "Python 3",
      "name": "python3"
    },
    "language_info": {},
    "accelerator": "GPU"
  },
  "nbformat": 4,
  "nbformat_minor": 0
}